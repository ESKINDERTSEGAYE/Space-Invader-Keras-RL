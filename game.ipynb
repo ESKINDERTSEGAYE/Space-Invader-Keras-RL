{
 "metadata": {
  "language_info": {
   "codemirror_mode": {
    "name": "ipython",
    "version": 3
   },
   "file_extension": ".py",
   "mimetype": "text/x-python",
   "name": "python",
   "nbconvert_exporter": "python",
   "pygments_lexer": "ipython3",
   "version": "3.7.4-final"
  },
  "orig_nbformat": 2,
  "kernelspec": {
   "name": "python3",
   "display_name": "Python 3.7.4 64-bit",
   "metadata": {
    "interpreter": {
     "hash": "aee8b7b246df8f9039afb4144a1f6fd8d2ca17a180786b69acc140d282b71a49"
    }
   }
  }
 },
 "nbformat": 4,
 "nbformat_minor": 2,
 "cells": [
  {
   "source": [
    "# Set Up and Test Environment with OpenAI Gym"
   ],
   "cell_type": "markdown",
   "metadata": {}
  },
  {
   "cell_type": "code",
   "execution_count": 4,
   "metadata": {},
   "outputs": [],
   "source": [
    "import gym\n",
    "import random as r \n",
    "\n",
    "# Create Deep Learning Model\n",
    "import numpy as np\n",
    "from tensorflow.keras.models import Sequential\n",
    "from tensorflow.keras.layers import Dense, Flatten, Conv2D\n",
    "from tensorflow.keras.optimizers import Adam\n",
    "\n",
    "# Apply Reinforcement Learning\n",
    "from rl.agents import DQNAgent\n",
    "from rl.memory import SequentialMemory\n",
    "from rl.policy import LinearAnnealedPolicy, EpsGreedyQPolicy"
   ]
  },
  {
   "cell_type": "code",
   "execution_count": 5,
   "metadata": {},
   "outputs": [
    {
     "output_type": "execute_result",
     "data": {
      "text/plain": [
       "['NOOP', 'FIRE', 'RIGHT', 'LEFT', 'RIGHTFIRE', 'LEFTFIRE']"
      ]
     },
     "metadata": {},
     "execution_count": 5
    }
   ],
   "source": [
    "env = gym.make('SpaceInvaders-v0')\n",
    "height, width, channels = env.observation_space.shape\n",
    "actions = env.action_space.n\n",
    "\n",
    "env.unwrapped.get_action_meanings()"
   ]
  },
  {
   "cell_type": "code",
   "execution_count": 6,
   "metadata": {},
   "outputs": [
    {
     "output_type": "stream",
     "name": "stdout",
     "text": [
      "Episode: 1 Score: 20.0\n",
      "Episode: 2 Score: 200.0\n",
      "Episode: 3 Score: 75.0\n",
      "Episode: 4 Score: 225.0\n",
      "Episode: 5 Score: 75.0\n"
     ]
    }
   ],
   "source": [
    "# This is for testing our environment\n",
    "# Uncomment if you want to see how the game works\n",
    "\n",
    "# episodes = 5\n",
    "\n",
    "# for episode in range(1, episodes+1):\n",
    "#     state = env.reset()\n",
    "#     done = False\n",
    "#     score = 0\n",
    "\n",
    "#     while not done:\n",
    "#         env.render()\n",
    "#         action = r.choice([0,1,2,3,4,5])\n",
    "#         nState, reward, done, info = env.step(action)\n",
    "#         score += reward\n",
    "    \n",
    "#     print(f'Episode: {episode} Score: {score}')\n",
    "\n",
    "# env.close()"
   ]
  },
  {
   "source": [
    "# Create a Deep Learning Model with Keras and Tensorflow"
   ],
   "cell_type": "markdown",
   "metadata": {}
  },
  {
   "cell_type": "code",
   "execution_count": 2,
   "metadata": {},
   "outputs": [],
   "source": [
    "def buildModel(height, width, channels, actions):\n",
    "    model = Sequential()\n",
    "    model.add(Conv2D(32, (8,8), strides=(4,4), activation='relu', input_shape=(3, height, width, channels)))\n",
    "    model.add(Conv2D(64, (4,4), strides=(2,2), activation='relu'))\n",
    "    model.add(Conv2D(64, (3,3), activation='relu'))\n",
    "    model.add(Flatten())\n",
    "    model.add(Dense(512, activation='relu'))\n",
    "    model.add(Dense(256, activation='relu'))\n",
    "    model.add(Dense(actions, activation='linear'))\n",
    "    \n",
    "    return model"
   ]
  },
  {
   "cell_type": "code",
   "execution_count": 6,
   "metadata": {},
   "outputs": [
    {
     "output_type": "stream",
     "name": "stdout",
     "text": [
      "Model: \"sequential\"\n_________________________________________________________________\nLayer (type)                 Output Shape              Param #   \n=================================================================\nconv2d (Conv2D)              (None, 3, 51, 39, 32)     6176      \n_________________________________________________________________\nconv2d_1 (Conv2D)            (None, 3, 24, 18, 64)     32832     \n_________________________________________________________________\nconv2d_2 (Conv2D)            (None, 3, 22, 16, 64)     36928     \n_________________________________________________________________\nflatten (Flatten)            (None, 67584)             0         \n_________________________________________________________________\ndense (Dense)                (None, 512)               34603520  \n_________________________________________________________________\ndense_1 (Dense)              (None, 256)               131328    \n_________________________________________________________________\ndense_2 (Dense)              (None, 6)                 1542      \n=================================================================\nTotal params: 34,812,326\nTrainable params: 34,812,326\nNon-trainable params: 0\n_________________________________________________________________\n"
     ]
    }
   ],
   "source": [
    "model = buildModel(height, width, channels, actions)\n",
    "model.summary()"
   ]
  },
  {
   "source": [
    "# Build Agent with Keras-RL"
   ],
   "cell_type": "markdown",
   "metadata": {}
  },
  {
   "cell_type": "code",
   "execution_count": 7,
   "metadata": {},
   "outputs": [],
   "source": [
    "def buildAgent(model, actions):\n",
    "    policy = LinearAnnealedPolicy(EpsGreedyQPolicy(), attr='eps', value_max=1.0, value_min=0.1, value_test=0.2, nb_steps=10000)\n",
    "    memory = SequentialMemory(limit=1000, window_length=3)\n",
    "    dqn = DQNAgent(model=model, memory=memory, policy=policy, enable_dueling_network=True, dueling_type='avg', nb_actions=actions, nb_steps_warmup=1000)\n",
    "    return dqn\n",
    "\n",
    "dqn = buildAgent(model, actions)\n",
    "dqn.compile(Adam(lr=1e-4))"
   ]
  },
  {
   "cell_type": "code",
   "execution_count": 8,
   "metadata": {},
   "outputs": [
    {
     "output_type": "stream",
     "name": "stdout",
     "text": [
      "Training for 10000 steps ...\n",
      "  594/10000: episode: 1, duration: 20.577s, episode steps: 594, steps per second:  29, episode reward: 155.000, mean reward:  0.261 [ 0.000, 30.000], mean action: 2.451 [0.000, 5.000],  loss: --, mean_q: --, mean_eps: --\n",
      " 1088/10000: episode: 2, duration: 162.330s, episode steps: 494, steps per second:   3, episode reward: 65.000, mean reward:  0.132 [ 0.000, 20.000], mean action: 2.591 [0.000, 5.000],  loss: 22.628159, mean_q: 10.060919, mean_eps: 0.906040\n",
      " 1939/10000: episode: 3, duration: 1278.813s, episode steps: 851, steps per second:   1, episode reward: 240.000, mean reward:  0.282 [ 0.000, 30.000], mean action: 2.501 [0.000, 5.000],  loss: 1.132383, mean_q: 7.937387, mean_eps: 0.863830\n",
      " 2978/10000: episode: 4, duration: 1343.653s, episode steps: 1039, steps per second:   1, episode reward: 225.000, mean reward:  0.217 [ 0.000, 30.000], mean action: 2.540 [0.000, 5.000],  loss: 0.724818, mean_q: 7.831339, mean_eps: 0.778780\n",
      " 3918/10000: episode: 5, duration: 1239.030s, episode steps: 940, steps per second:   1, episode reward: 230.000, mean reward:  0.245 [ 0.000, 30.000], mean action: 2.572 [0.000, 5.000],  loss: 0.489423, mean_q: 7.575587, mean_eps: 0.689725\n",
      " 4558/10000: episode: 6, duration: 850.597s, episode steps: 640, steps per second:   1, episode reward: 145.000, mean reward:  0.227 [ 0.000, 30.000], mean action: 2.422 [0.000, 5.000],  loss: 0.406598, mean_q: 7.319379, mean_eps: 0.618625\n",
      " 5312/10000: episode: 7, duration: 973.477s, episode steps: 754, steps per second:   1, episode reward: 120.000, mean reward:  0.159 [ 0.000, 30.000], mean action: 2.279 [0.000, 5.000],  loss: 0.341726, mean_q: 7.300046, mean_eps: 0.555895\n",
      " 6307/10000: episode: 8, duration: 1257.552s, episode steps: 995, steps per second:   1, episode reward: 200.000, mean reward:  0.201 [ 0.000, 30.000], mean action: 2.462 [0.000, 5.000],  loss: 0.195047, mean_q: 6.776134, mean_eps: 0.477190\n",
      " 7062/10000: episode: 9, duration: 1013.311s, episode steps: 755, steps per second:   1, episode reward: 310.000, mean reward:  0.411 [ 0.000, 200.000], mean action: 2.472 [0.000, 5.000],  loss: 4.763069, mean_q: 7.001327, mean_eps: 0.398440\n",
      " 7907/10000: episode: 10, duration: 1180.486s, episode steps: 845, steps per second:   1, episode reward: 215.000, mean reward:  0.254 [ 0.000, 30.000], mean action: 2.491 [0.000, 5.000],  loss: 1.019351, mean_q: 7.466493, mean_eps: 0.326440\n",
      " 8347/10000: episode: 11, duration: 510.306s, episode steps: 440, steps per second:   1, episode reward: 55.000, mean reward:  0.125 [ 0.000, 20.000], mean action: 2.675 [0.000, 5.000],  loss: 0.178968, mean_q: 7.154232, mean_eps: 0.268615\n",
      " 8932/10000: episode: 12, duration: 770.603s, episode steps: 585, steps per second:   1, episode reward: 85.000, mean reward:  0.145 [ 0.000, 20.000], mean action: 2.609 [0.000, 5.000],  loss: 0.165108, mean_q: 6.659811, mean_eps: 0.222490\n",
      "done, took 12033.450 seconds\n"
     ]
    },
    {
     "output_type": "execute_result",
     "data": {
      "text/plain": [
       "<tensorflow.python.keras.callbacks.History at 0x7fae048ed6d0>"
      ]
     },
     "metadata": {},
     "execution_count": 8
    }
   ],
   "source": [
    "dqn.fit(env, nb_steps=10000, visualize=False, verbose=2)"
   ]
  },
  {
   "cell_type": "code",
   "execution_count": 9,
   "metadata": {},
   "outputs": [
    {
     "output_type": "stream",
     "name": "stdout",
     "text": [
      "Testing for 10 episodes ...\n",
      "Episode 1: reward: 115.000, steps: 663\n",
      "Episode 2: reward: 65.000, steps: 483\n",
      "Episode 3: reward: 80.000, steps: 617\n",
      "Episode 4: reward: 125.000, steps: 645\n",
      "Episode 5: reward: 80.000, steps: 607\n",
      "Episode 6: reward: 45.000, steps: 402\n",
      "Episode 7: reward: 315.000, steps: 905\n",
      "Episode 8: reward: 455.000, steps: 805\n",
      "Episode 9: reward: 170.000, steps: 661\n",
      "Episode 10: reward: 210.000, steps: 994\n",
      "166.0\n"
     ]
    }
   ],
   "source": [
    "# Run and test our AI\n",
    "scores = dqn.test(env, nb_episodes=10, visualize=True)\n",
    "print(np.mean(scores.history['episode_reward']))"
   ]
  },
  {
   "cell_type": "code",
   "execution_count": null,
   "metadata": {},
   "outputs": [],
   "source": []
  }
 ]
}