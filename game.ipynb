{
 "metadata": {
  "language_info": {
   "codemirror_mode": {
    "name": "ipython",
    "version": 3
   },
   "file_extension": ".py",
   "mimetype": "text/x-python",
   "name": "python",
   "nbconvert_exporter": "python",
   "pygments_lexer": "ipython3",
   "version": "3.7.4-final"
  },
  "orig_nbformat": 2,
  "kernelspec": {
   "name": "python3",
   "display_name": "Python 3.7.4 64-bit",
   "metadata": {
    "interpreter": {
     "hash": "aee8b7b246df8f9039afb4144a1f6fd8d2ca17a180786b69acc140d282b71a49"
    }
   }
  }
 },
 "nbformat": 4,
 "nbformat_minor": 2,
 "cells": [
  {
   "source": [
    "# Reinforcement Learning on OpenAI Space Invader \n",
    "\n",
    "- Using **OpenAI Atari Library** (gym) to provide the environment for Space Invader\n",
    "- Using **Convolutional Neural Network** (Tensorflow and Keras) to create our training model\n",
    "- Using **Reinforcement Learning** (Keras-RL2) to train our program to play Space Invader"
   ],
   "cell_type": "markdown",
   "metadata": {}
  },
  {
   "source": [
    "# Setting Up Our Libraries"
   ],
   "cell_type": "markdown",
   "metadata": {}
  },
  {
   "cell_type": "code",
   "execution_count": null,
   "metadata": {},
   "outputs": [],
   "source": [
    "# Install the require packages here\n",
    "!pip install -r requirements.txt"
   ]
  },
  {
   "cell_type": "code",
   "execution_count": 1,
   "metadata": {},
   "outputs": [],
   "source": [
    "# Check it here after installation\n",
    "import gym\n",
    "import random as r \n",
    "\n",
    "# Create Deep Learning Model\n",
    "import numpy as np\n",
    "from tensorflow.keras.models import Sequential\n",
    "from tensorflow.keras.layers import Dense, Flatten, Conv2D\n",
    "from tensorflow.keras.optimizers import Adam\n",
    "\n",
    "# Apply Reinforcement Learning\n",
    "from rl.agents import DQNAgent\n",
    "from rl.memory import SequentialMemory\n",
    "from rl.policy import LinearAnnealedPolicy, EpsGreedyQPolicy"
   ]
  },
  {
   "source": [
    "# Set Up and Test Environment with OpenAI Gym"
   ],
   "cell_type": "markdown",
   "metadata": {}
  },
  {
   "cell_type": "code",
   "execution_count": 2,
   "metadata": {},
   "outputs": [
    {
     "output_type": "execute_result",
     "data": {
      "text/plain": [
       "['NOOP', 'FIRE', 'RIGHT', 'LEFT', 'RIGHTFIRE', 'LEFTFIRE']"
      ]
     },
     "metadata": {},
     "execution_count": 2
    }
   ],
   "source": [
    "env = gym.make('SpaceInvaders-v0')\n",
    "height, width, channels = env.observation_space.shape\n",
    "actions = env.action_space.n\n",
    "\n",
    "env.unwrapped.get_action_meanings()"
   ]
  },
  {
   "cell_type": "code",
   "execution_count": 6,
   "metadata": {},
   "outputs": [
    {
     "output_type": "stream",
     "name": "stdout",
     "text": [
      "Episode: 1 Score: 20.0\n",
      "Episode: 2 Score: 200.0\n",
      "Episode: 3 Score: 75.0\n",
      "Episode: 4 Score: 225.0\n",
      "Episode: 5 Score: 75.0\n"
     ]
    }
   ],
   "source": [
    "# This is for testing our environment\n",
    "# Uncomment if you want to see how the game works\n",
    "\n",
    "# episodes = 5\n",
    "\n",
    "# for episode in range(1, episodes+1):\n",
    "#     state = env.reset()\n",
    "#     done = False\n",
    "#     score = 0\n",
    "\n",
    "#     while not done:\n",
    "#         env.render()\n",
    "#         action = r.choice([0,1,2,3,4,5])\n",
    "#         nState, reward, done, info = env.step(action)\n",
    "#         score += reward\n",
    "    \n",
    "#     print(f'Episode: {episode} Score: {score}')\n",
    "\n",
    "# env.close()"
   ]
  },
  {
   "source": [
    "# Create a Deep Learning Model with Keras and Tensorflow\n",
    "\n",
    "- Build our **Deep Q Neural Network**\n",
    "    - We will be create a **Convolutional Neural Network**, which will be the neural network that we will use to train our program\n"
   ],
   "cell_type": "markdown",
   "metadata": {}
  },
  {
   "cell_type": "code",
   "execution_count": 3,
   "metadata": {},
   "outputs": [],
   "source": [
    "def buildModel(height, width, channels, actions):\n",
    "    \"\"\"\n",
    "        Build our Deep Learning Model\n",
    "\n",
    "        Args:\n",
    "            height: height of the space environment\n",
    "            width: width of the space environment\n",
    "            channels: channels of our space environment \n",
    "            actions: actions that the agent is going to perform\n",
    "\n",
    "        Return:\n",
    "            model: A Deep Neural Network that is ready for training\n",
    "    \"\"\"\n",
    "    model = Sequential()\n",
    "    model.add(Conv2D(32, (8,8), strides=(4,4), activation='relu', input_shape=(3, height, width, channels)))\n",
    "    model.add(Conv2D(64, (4,4), strides=(2,2), activation='relu'))\n",
    "    model.add(Conv2D(64, (3,3), activation='relu'))\n",
    "    model.add(Flatten())\n",
    "    model.add(Dense(512, activation='relu'))\n",
    "    model.add(Dense(256, activation='relu'))\n",
    "    model.add(Dense(actions, activation='linear'))\n",
    "    \n",
    "    return model"
   ]
  },
  {
   "cell_type": "code",
   "execution_count": 4,
   "metadata": {},
   "outputs": [
    {
     "output_type": "stream",
     "name": "stdout",
     "text": [
      "Model: \"sequential\"\n_________________________________________________________________\nLayer (type)                 Output Shape              Param #   \n=================================================================\nconv2d (Conv2D)              (None, 3, 51, 39, 32)     6176      \n_________________________________________________________________\nconv2d_1 (Conv2D)            (None, 3, 24, 18, 64)     32832     \n_________________________________________________________________\nconv2d_2 (Conv2D)            (None, 3, 22, 16, 64)     36928     \n_________________________________________________________________\nflatten (Flatten)            (None, 67584)             0         \n_________________________________________________________________\ndense (Dense)                (None, 512)               34603520  \n_________________________________________________________________\ndense_1 (Dense)              (None, 256)               131328    \n_________________________________________________________________\ndense_2 (Dense)              (None, 6)                 1542      \n=================================================================\nTotal params: 34,812,326\nTrainable params: 34,812,326\nNon-trainable params: 0\n_________________________________________________________________\n"
     ]
    }
   ],
   "source": [
    "# Create our model\n",
    "model = buildModel(height, width, channels, actions)\n",
    "model.summary()"
   ]
  },
  {
   "source": [
    "# Build Agent with Keras-RL\n",
    "\n",
    "- Applying Keras' reinforcement learning library (Keras-RL)\n",
    "\n",
    "## Reinforcement Learning\n",
    "\n",
    "<img width=\"500\" alt=\"portfolio_view\" src=\"src/reinforcement-learning.jpg\">\n",
    "\n",
    "- We start with an agent, which will be our shooter in this case\n",
    "- Our environment is the game itself\n",
    "- Our agent will perform an action\n",
    "- After the agent perform its action, it will receive a number called reward\n",
    "    - Reward is also known as a Q-value, which will will be calculated by a formula called Q-function\n",
    "    - Q-function captures the expected total future reward an agent in state (s) \n",
    "    - ![Insert diagram or equation](src/qFunction.png)\n",
    "- The goal of the agent is to receive the most reward in each state\n",
    "\n",
    "<img width=\"500\" alt=\"portfolio_view\" src=\"src/Space-Invaders-RL.png\">\n",
    "\n",
    "\n"
   ],
   "cell_type": "markdown",
   "metadata": {}
  },
  {
   "cell_type": "code",
   "execution_count": 5,
   "metadata": {},
   "outputs": [],
   "source": [
    "def buildAgent(model, actions):\n",
    "    \"\"\"\n",
    "        Build our agent for training\n",
    "\n",
    "        Args:\n",
    "            model: our deep neural network\n",
    "            actions: the action that the agent is going to perform\n",
    "\n",
    "        Returns:\n",
    "            dqn: A Deep Q-Network agent\n",
    "    \"\"\"\n",
    "    # Set up our policy and memory\n",
    "    policy = LinearAnnealedPolicy(EpsGreedyQPolicy(), attr='eps', value_max=1.0, value_min=0.1, value_test=0.2, nb_steps=10000)\n",
    "    memory = SequentialMemory(limit=1000, window_length=3)\n",
    "    \n",
    "    # Create our Agent\n",
    "    dqn = DQNAgent(model=model, memory=memory, policy=policy, enable_dueling_network=True, dueling_type='avg', nb_actions=actions, nb_steps_warmup=1000)\n",
    "    return dqn\n",
    "\n",
    "# Create our Agent\n",
    "dqn = buildAgent(model, actions)\n",
    "dqn.compile(Adam(lr=1e-4))"
   ]
  },
  {
   "cell_type": "code",
   "execution_count": 6,
   "metadata": {},
   "outputs": [
    {
     "output_type": "stream",
     "name": "stdout",
     "text": [
      "Training for 5000 steps ...\n",
      "  708/5000: episode: 1, duration: 24.454s, episode steps: 708, steps per second:  29, episode reward: 110.000, mean reward:  0.155 [ 0.000, 30.000], mean action: 2.568 [0.000, 5.000],  loss: --, mean_q: --, mean_eps: --\n",
      " 1744/5000: episode: 2, duration: 1100.555s, episode steps: 1036, steps per second:   1, episode reward: 425.000, mean reward:  0.410 [ 0.000, 200.000], mean action: 2.449 [0.000, 5.000],  loss: 15.459784, mean_q: 7.616658, mean_eps: 0.876520\n",
      " 2490/5000: episode: 3, duration: 1029.241s, episode steps: 746, steps per second:   1, episode reward: 365.000, mean reward:  0.489 [ 0.000, 200.000], mean action: 2.684 [0.000, 5.000],  loss: 5.944562, mean_q: 7.764208, mean_eps: 0.809515\n",
      " 3904/5000: episode: 4, duration: 1749.460s, episode steps: 1414, steps per second:   1, episode reward: 390.000, mean reward:  0.276 [ 0.000, 30.000], mean action: 2.353 [0.000, 5.000],  loss: 0.874080, mean_q: 7.421928, mean_eps: 0.712315\n",
      " 4588/5000: episode: 5, duration: 840.868s, episode steps: 684, steps per second:   1, episode reward: 180.000, mean reward:  0.263 [ 0.000, 30.000], mean action: 2.414 [0.000, 5.000],  loss: 0.443672, mean_q: 6.039804, mean_eps: 0.617905\n",
      "done, took 5320.851 seconds\n"
     ]
    },
    {
     "output_type": "execute_result",
     "data": {
      "text/plain": [
       "<tensorflow.python.keras.callbacks.History at 0x7fc2fb364250>"
      ]
     },
     "metadata": {},
     "execution_count": 6
    }
   ],
   "source": [
    "# Train our model\n",
    "dqn.fit(env, nb_steps=5000, visualize=False, verbose=2)"
   ]
  },
  {
   "cell_type": "code",
   "execution_count": 7,
   "metadata": {},
   "outputs": [
    {
     "output_type": "stream",
     "name": "stdout",
     "text": [
      "Testing for 30 episodes ...\n",
      "Episode 1: reward: 85.000, steps: 496\n",
      "Episode 2: reward: 35.000, steps: 661\n",
      "Episode 3: reward: 150.000, steps: 915\n",
      "Episode 4: reward: 50.000, steps: 704\n",
      "Episode 5: reward: 140.000, steps: 699\n",
      "Episode 6: reward: 105.000, steps: 940\n",
      "Episode 7: reward: 80.000, steps: 512\n",
      "Episode 8: reward: 170.000, steps: 947\n",
      "Episode 9: reward: 75.000, steps: 862\n",
      "Episode 10: reward: 65.000, steps: 517\n",
      "Episode 11: reward: 105.000, steps: 955\n",
      "Episode 12: reward: 160.000, steps: 932\n",
      "Episode 13: reward: 110.000, steps: 693\n",
      "Episode 14: reward: 50.000, steps: 376\n",
      "Episode 15: reward: 130.000, steps: 1047\n",
      "Episode 16: reward: 15.000, steps: 386\n",
      "Episode 17: reward: 105.000, steps: 866\n",
      "Episode 18: reward: 140.000, steps: 920\n",
      "Episode 19: reward: 70.000, steps: 899\n",
      "Episode 20: reward: 10.000, steps: 518\n",
      "Episode 21: reward: 265.000, steps: 747\n",
      "Episode 22: reward: 165.000, steps: 1206\n",
      "Episode 23: reward: 135.000, steps: 1211\n",
      "Episode 24: reward: 105.000, steps: 707\n",
      "Episode 25: reward: 50.000, steps: 642\n",
      "Episode 26: reward: 140.000, steps: 804\n",
      "Episode 27: reward: 210.000, steps: 1110\n",
      "Episode 28: reward: 65.000, steps: 742\n",
      "Episode 29: reward: 120.000, steps: 623\n",
      "Episode 30: reward: 140.000, steps: 744\n",
      "108.16666666666667\n"
     ]
    }
   ],
   "source": [
    "# Run and test our AI\n",
    "scores = dqn.test(env, nb_episodes=30, visualize=True)\n",
    "print(np.mean(scores.history['episode_reward']))"
   ]
  },
  {
   "cell_type": "code",
   "execution_count": null,
   "metadata": {},
   "outputs": [],
   "source": []
  }
 ]
}