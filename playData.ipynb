{
 "metadata": {
  "language_info": {
   "codemirror_mode": {
    "name": "ipython",
    "version": 3
   },
   "file_extension": ".py",
   "mimetype": "text/x-python",
   "name": "python",
   "nbconvert_exporter": "python",
   "pygments_lexer": "ipython3",
   "version": "3.7.4-final"
  },
  "orig_nbformat": 2,
  "kernelspec": {
   "name": "python3",
   "display_name": "Python 3.7.4 64-bit",
   "metadata": {
    "interpreter": {
     "hash": "aee8b7b246df8f9039afb4144a1f6fd8d2ca17a180786b69acc140d282b71a49"
    }
   }
  }
 },
 "nbformat": 4,
 "nbformat_minor": 2,
 "cells": [
  {
   "cell_type": "code",
   "execution_count": 1,
   "metadata": {},
   "outputs": [],
   "source": [
    "import pandas as pd"
   ]
  },
  {
   "cell_type": "code",
   "execution_count": 10,
   "metadata": {},
   "outputs": [
    {
     "output_type": "execute_result",
     "data": {
      "text/plain": [
       "       Steps (Out of 10000)   Duration (s)   Episode Steps   Steps per Sec  \\\n",
       "count             12.000000      12.000000       12.000000       12.000000   \n",
       "mean            4911.833333     883.394583      744.333333        3.500000   \n",
       "std             2870.202902     443.672823      196.289366        8.050974   \n",
       "min              594.000000      20.577000      440.000000        1.000000   \n",
       "25%             2718.250000     705.528750      591.750000        1.000000   \n",
       "50%             4935.000000     993.394000      754.500000        1.000000   \n",
       "75%             7273.250000    1243.660500      873.250000        1.000000   \n",
       "max             8932.000000    1343.653000     1039.000000       29.000000   \n",
       "\n",
       "        Episode Reward   Mean Reward   Mean Action       Loss     Mean_Q  \\\n",
       "count        12.000000     12.000000     12.000000  11.000000  11.000000   \n",
       "mean        170.416667      0.221583      2.505417   2.913150   7.552969   \n",
       "std          79.127582      0.079938      0.103069   6.669597   0.922286   \n",
       "min          55.000000      0.125000      2.279000   0.165108   6.659811   \n",
       "25%         111.250000      0.155500      2.459250   0.268386   7.077780   \n",
       "50%         177.500000      0.222000      2.496000   0.489423   7.319379   \n",
       "75%         226.250000      0.255750      2.576750   1.075867   7.703463   \n",
       "max         310.000000      0.411000      2.675000  22.628159  10.060919   \n",
       "\n",
       "        Mean_Eps  \n",
       "count  11.000000  \n",
       "mean    0.555097  \n",
       "std     0.237964  \n",
       "min     0.222490  \n",
       "25%     0.362440  \n",
       "50%     0.555895  \n",
       "75%     0.734252  \n",
       "max     0.906040  "
      ],
      "text/html": "<div>\n<style scoped>\n    .dataframe tbody tr th:only-of-type {\n        vertical-align: middle;\n    }\n\n    .dataframe tbody tr th {\n        vertical-align: top;\n    }\n\n    .dataframe thead th {\n        text-align: right;\n    }\n</style>\n<table border=\"1\" class=\"dataframe\">\n  <thead>\n    <tr style=\"text-align: right;\">\n      <th></th>\n      <th>Steps (Out of 10000)</th>\n      <th>Duration (s)</th>\n      <th>Episode Steps</th>\n      <th>Steps per Sec</th>\n      <th>Episode Reward</th>\n      <th>Mean Reward</th>\n      <th>Mean Action</th>\n      <th>Loss</th>\n      <th>Mean_Q</th>\n      <th>Mean_Eps</th>\n    </tr>\n  </thead>\n  <tbody>\n    <tr>\n      <th>count</th>\n      <td>12.000000</td>\n      <td>12.000000</td>\n      <td>12.000000</td>\n      <td>12.000000</td>\n      <td>12.000000</td>\n      <td>12.000000</td>\n      <td>12.000000</td>\n      <td>11.000000</td>\n      <td>11.000000</td>\n      <td>11.000000</td>\n    </tr>\n    <tr>\n      <th>mean</th>\n      <td>4911.833333</td>\n      <td>883.394583</td>\n      <td>744.333333</td>\n      <td>3.500000</td>\n      <td>170.416667</td>\n      <td>0.221583</td>\n      <td>2.505417</td>\n      <td>2.913150</td>\n      <td>7.552969</td>\n      <td>0.555097</td>\n    </tr>\n    <tr>\n      <th>std</th>\n      <td>2870.202902</td>\n      <td>443.672823</td>\n      <td>196.289366</td>\n      <td>8.050974</td>\n      <td>79.127582</td>\n      <td>0.079938</td>\n      <td>0.103069</td>\n      <td>6.669597</td>\n      <td>0.922286</td>\n      <td>0.237964</td>\n    </tr>\n    <tr>\n      <th>min</th>\n      <td>594.000000</td>\n      <td>20.577000</td>\n      <td>440.000000</td>\n      <td>1.000000</td>\n      <td>55.000000</td>\n      <td>0.125000</td>\n      <td>2.279000</td>\n      <td>0.165108</td>\n      <td>6.659811</td>\n      <td>0.222490</td>\n    </tr>\n    <tr>\n      <th>25%</th>\n      <td>2718.250000</td>\n      <td>705.528750</td>\n      <td>591.750000</td>\n      <td>1.000000</td>\n      <td>111.250000</td>\n      <td>0.155500</td>\n      <td>2.459250</td>\n      <td>0.268386</td>\n      <td>7.077780</td>\n      <td>0.362440</td>\n    </tr>\n    <tr>\n      <th>50%</th>\n      <td>4935.000000</td>\n      <td>993.394000</td>\n      <td>754.500000</td>\n      <td>1.000000</td>\n      <td>177.500000</td>\n      <td>0.222000</td>\n      <td>2.496000</td>\n      <td>0.489423</td>\n      <td>7.319379</td>\n      <td>0.555895</td>\n    </tr>\n    <tr>\n      <th>75%</th>\n      <td>7273.250000</td>\n      <td>1243.660500</td>\n      <td>873.250000</td>\n      <td>1.000000</td>\n      <td>226.250000</td>\n      <td>0.255750</td>\n      <td>2.576750</td>\n      <td>1.075867</td>\n      <td>7.703463</td>\n      <td>0.734252</td>\n    </tr>\n    <tr>\n      <th>max</th>\n      <td>8932.000000</td>\n      <td>1343.653000</td>\n      <td>1039.000000</td>\n      <td>29.000000</td>\n      <td>310.000000</td>\n      <td>0.411000</td>\n      <td>2.675000</td>\n      <td>22.628159</td>\n      <td>10.060919</td>\n      <td>0.906040</td>\n    </tr>\n  </tbody>\n</table>\n</div>"
     },
     "metadata": {},
     "execution_count": 10
    }
   ],
   "source": [
    "trainDataFile = 'trainingData.csv'\n",
    "trainData = pd.read_csv(trainDataFile)\n",
    "trainData.describe()"
   ]
  },
  {
   "cell_type": "code",
   "execution_count": null,
   "metadata": {},
   "outputs": [],
   "source": []
  }
 ]
}